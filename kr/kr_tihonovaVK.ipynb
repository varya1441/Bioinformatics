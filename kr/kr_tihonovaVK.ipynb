{
 "cells": [
  {
   "cell_type": "code",
   "execution_count": 59,
   "metadata": {},
   "outputs": [],
   "source": [
    "import numpy as np\n",
    "import Bio\n",
    "from Bio.Seq import Seq\n",
    "from Bio.Alphabet import generic_dna\n",
    "import matplotlib.pyplot as plt\n",
    "import math"
   ]
  },
  {
   "cell_type": "markdown",
   "metadata": {},
   "source": [
    "1"
   ]
  },
  {
   "cell_type": "markdown",
   "metadata": {},
   "source": [
    "Но до сих пор нет оптимального метода предсказания третичной структуры белка.Большинство методов занимают много времени. В основном из-за большого разрыва между вычислительными возможностями и временем в миллисекундах сворачивания белка алгоритмы предсказания не настолько эффективны как экспериментальные исследования: ядерно-магнитный резонанс (ЯМР), cryo-EM (электронная микроскопия) и рентгеноструктурный анализ кристаллов белка.\n",
    "\n",
    "Есть достаточно известный хабравчанам самый общий подход, называемый «молекулярная динамика» и подходящий для любых молекул и систем. Берем развернутый белок, приписываем всем атомам случайные значения скоростей, считаем взаимодействия между атомами, повторяем до тех пор, пока система не придет в стабильное состояние, соответствующее свернутому белку. Почему это не работает? Потому что современные вычислительные мощности позволяют за месяцы работы кластера считать десятки наносекунд для системы из тысяч атомов, какой является белок, помещенный в воду. Время же сворачивания белка – миллисекунды и больше, то есть вычислительных мощностей не хватает, разрыв – в несколько порядков. Впрочем, пару лет назад американцы совершили некоторый прорыв. Они использовали специальное железо, оптимизированное для векторных вычислений и после оптимизации на аппаратном уровне у них за месяцы работы машины получилось посчитать молдинамику до миллисекунд для очень маленького белка и белок свернулся, структура соответствовала экспериментально определенной ( http://en.wikipedia.org/wiki/Anton_(computer) )! Однако праздновать победу еще рано. Они взяли очень маленький (его размер раз в 5-10 меньше среднего белка) и один из самых быстросворачивающихся белков, классический модельный белок, на котором изучалось сворачивание. Для больших белков время расчетов увеличивается нелинейно и потребуются уже годы, то есть еще есть над чем работать.\n",
    "\n",
    "Другой подход реализован в Rosetta. Они разбивают последовательность белка на очень короткие (3-9 остатков) фрагменты и смотрят, какие конформации для этих фрагментов присутствуют в PDB, после чего запускают Монте-Карло по всем вариантам и смотрят, что получится. Иногда получается что-то годное, но в моих случаях через несколько дней работы кластера получаешь такой бублик, что возникает немой вопрос: «Кто писал их оценочную функцию, ставящую какую-то хорошую оценку вот этой загогулине?».\n",
    "\n",
    "Есть инструменты и для моделирования вручную – можно предсказать вторичную структуру и попробовать вручную крутить ее, находя лучшую укладку"
   ]
  },
  {
   "cell_type": "markdown",
   "metadata": {},
   "source": [
    "2"
   ]
  },
  {
   "cell_type": "markdown",
   "metadata": {},
   "source": [
    "В последовательности есть страрт и стоп кадоны, мы можем их найти и определить начло и конец"
   ]
  },
  {
   "cell_type": "markdown",
   "metadata": {},
   "source": [
    "# Task 1"
   ]
  },
  {
   "cell_type": "code",
   "execution_count": 36,
   "metadata": {},
   "outputs": [],
   "source": [
    "\n",
    "def vyravnivanie(s1, s2):\n",
    "    len_s1 = len(s1)+1\n",
    "    len_s2 = len(s2)+1\n",
    "    d = np.zeros( (len_s1, len_s2)) \n",
    "    d[0][0] = 0\n",
    "    for i_a in range(1,len_s1):\n",
    "        d[i_a][0]=-i_a\n",
    "    for i_b in range(1,len_s2):\n",
    "        d[0][i_b]=-i_b\n",
    "    for i_a in range(1,len_s1):\n",
    "        for i_b in range(1,len_s2):    \n",
    "            d[i_a][i_b]=max(d[i_a-1][i_b]-1, d[i_a][i_b-1]-1, d[i_a-1][i_b-1]+ (1 if s1[i_a-1]==s2[i_b-1]else(-1)) )\n",
    "    print(d)\n",
    "    wage=d[len_s1-1][len_s2-1]\n",
    "    len_s1=len_s1-1\n",
    "    len_s2=len_s2-1\n",
    "    \n",
    "    res1=\"\"\n",
    "    res2=\"\"\n",
    "    while len_s1!=0 or len_s2!=0:\n",
    "        \n",
    "        if (d[len_s1-1][len_s2-1]>=max(d[len_s1-1][len_s2],d[len_s1][len_s2-1])):\n",
    "            len_s1=len_s1-1\n",
    "            len_s2=len_s2-1\n",
    "            res1=s1[len_s1]+res1\n",
    "            res2=s2[len_s2]+res2\n",
    "            \n",
    "        elif (d[len_s1-1][len_s2] >=max(d[len_s1-1][len_s2-1],d[len_s1][len_s2-1])):\n",
    "            len_s2=len_s2-1\n",
    "            res1=s1[len_s2]+res1\n",
    "            res2=\"-\"+res2\n",
    "          \n",
    "        else:\n",
    "            res1=\"-\"+res1\n",
    "            len_s2=len_s2-1\n",
    "            res2=s2[len_s2]+res2\n",
    "            \n",
    "    print(res1+\"\\n\"+res2)"
   ]
  },
  {
   "cell_type": "code",
   "execution_count": 38,
   "metadata": {},
   "outputs": [
    {
     "name": "stdout",
     "output_type": "stream",
     "text": [
      "[[  0.  -1.  -2.  -3.  -4.  -5.  -6.  -7.  -8.  -9. -10. -11. -12. -13.\n",
      "  -14. -15. -16. -17. -18.]\n",
      " [ -1.   1.   0.  -1.  -2.  -3.  -4.  -5.  -6.  -7.  -8.  -9. -10. -11.\n",
      "  -12. -13. -14. -15. -16.]\n",
      " [ -2.   0.   2.   1.   0.  -1.  -2.  -3.  -4.  -5.  -6.  -7.  -8.  -9.\n",
      "  -10. -11. -12. -13. -14.]\n",
      " [ -3.  -1.   1.   3.   2.   1.   0.  -1.  -2.  -3.  -4.  -5.  -6.  -7.\n",
      "   -8.  -9. -10. -11. -12.]\n",
      " [ -4.  -2.   0.   2.   4.   3.   2.   1.   0.  -1.  -2.  -3.  -4.  -5.\n",
      "   -6.  -7.  -8.  -9. -10.]\n",
      " [ -5.  -3.  -1.   1.   3.   3.   2.   1.   0.   1.   0.  -1.  -2.  -3.\n",
      "   -4.  -5.  -6.  -7.  -8.]\n",
      " [ -6.  -4.  -2.   0.   2.   2.   2.   3.   2.   1.   0.  -1.   0.  -1.\n",
      "   -2.  -3.  -4.  -5.  -6.]\n",
      " [ -7.  -5.  -3.  -1.   1.   1.   1.   2.   2.   3.   2.   1.   0.  -1.\n",
      "   -2.  -3.  -4.  -3.  -4.]\n",
      " [ -8.  -6.  -4.  -2.   0.   0.   0.   1.   1.   3.   4.   3.   2.   1.\n",
      "    0.  -1.  -2.  -3.  -2.]]\n",
      "CAGC----G--T----GG\n",
      "CAGCACTTGGATTCTCGG\n"
     ]
    }
   ],
   "source": [
    "vyravnivanie(\"CAGCGTGG\",\"CAGCACTTGGATTCTCGG\")"
   ]
  },
  {
   "cell_type": "markdown",
   "metadata": {},
   "source": [
    "# TASK 3\n"
   ]
  },
  {
   "cell_type": "code",
   "execution_count": 3,
   "metadata": {},
   "outputs": [
    {
     "name": "stdout",
     "output_type": "stream",
     "text": [
      "Converted 250 records\n"
     ]
    }
   ],
   "source": [
    "from Bio import SeqIO\n",
    "\n",
    "records = SeqIO.parse(\"cl.fq\", \"fastq\")\n",
    "count = SeqIO.write(records, \"out.fasta\", \"fasta\")\n",
    "print(\"Converted %i records\" % count)"
   ]
  },
  {
   "cell_type": "markdown",
   "metadata": {},
   "source": [
    "# Task 4"
   ]
  },
  {
   "cell_type": "code",
   "execution_count": 6,
   "metadata": {},
   "outputs": [
    {
     "name": "stdout",
     "output_type": "stream",
     "text": [
      "3'-CCTAGCATCGGAT-5'\n"
     ]
    }
   ],
   "source": [
    "#5’-GGATCGTAGCCTA-3’.\n",
    "dna = Seq(\"GGATCGTAGCCTA\", generic_dna)\n",
    "print(\"3'-\"+str(dna.complement()+\"-5'\"))"
   ]
  },
  {
   "cell_type": "markdown",
   "metadata": {},
   "source": [
    "# Task5"
   ]
  },
  {
   "cell_type": "code",
   "execution_count": 61,
   "metadata": {},
   "outputs": [],
   "source": [
    "str1=\"GCTAGTCAGATCTGACGCTA\"\n",
    "str2=\"GATGGTCACATCTGCCGC--\""
   ]
  },
  {
   "cell_type": "code",
   "execution_count": 67,
   "metadata": {},
   "outputs": [],
   "source": [
    "\n",
    "def f(str1, str2):\n",
    "    points1=[]\n",
    "    points2=[]\n",
    "    for i in range(len(str1)):\n",
    "        if(str2[i]!='-'):\n",
    "            points2.append(i)\n",
    "            if str1[i]==str2[i]:\n",
    "                points1.append(i)\n",
    "            else:\n",
    "                u=i\n",
    "                while u<len(str1):\n",
    "                    if str1[i]==str2[u]:\n",
    "                        break\n",
    "                    else:\n",
    "                        u+=1\n",
    "\n",
    "                d=i\n",
    "                while d>=0:\n",
    "                    if str1[i]==str2[d]:\n",
    "                        break\n",
    "                    else:\n",
    "                        d-=1\n",
    "\n",
    "                print(u,d)\n",
    "                if u!=len(str1) and d!=-1:\n",
    "                    if(u-i>i-d):\n",
    "                        points1.append(d)\n",
    "                    else:\n",
    "                        points1.append(u)\n",
    "\n",
    "                else:\n",
    "                    if u!=len(str1): \n",
    "                        points1.append(u)\n",
    "                    if d!=-1: \n",
    "                        points1.append(d)   \n",
    "\n",
    "    plt.figure(figsize=(7,7))        \n",
    "    plt.plot([0,20],[0,20]) \n",
    "\n",
    "\n",
    "    plt.scatter(points1,points2)"
   ]
  },
  {
   "cell_type": "code",
   "execution_count": 68,
   "metadata": {},
   "outputs": [
    {
     "name": "stdout",
     "output_type": "stream",
     "text": [
      "6 -1\n",
      "7 1\n",
      "13 4\n",
      "20 9\n"
     ]
    },
    {
     "data": {
      "image/png": "[encoded data removed]",
      "text/plain": [
       "<Figure size 504x504 with 1 Axes>"
      ]
     },
     "metadata": {
      "needs_background": "light"
     },
     "output_type": "display_data"
    }
   ],
   "source": [
    "f(str1,str2)"
   ]
  },
  {
   "cell_type": "markdown",
   "metadata": {},
   "source": [
    "# Task6\n",
    "\n"
   ]
  },
  {
   "cell_type": "markdown",
   "metadata": {},
   "source": [
    "Во вором штраф за пропуски был меньше, поэтому их больше"
   ]
  },
  {
   "cell_type": "markdown",
   "metadata": {},
   "source": [
    "# Task 13\n"
   ]
  }
 ],
 "metadata": {
  "kernelspec": {
   "display_name": "Python 3",
   "language": "python",
   "name": "python3"
  },
  "language_info": {
   "codemirror_mode": {
    "name": "ipython",
    "version": 3
   },
   "file_extension": ".py",
   "mimetype": "text/x-python",
   "name": "python",
   "nbconvert_exporter": "python",
   "pygments_lexer": "ipython3",
   "version": "3.7.3"
  }
 },
 "nbformat": 4,
 "nbformat_minor": 2
}
